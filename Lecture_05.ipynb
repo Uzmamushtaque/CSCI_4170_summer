{
  "nbformat": 4,
  "nbformat_minor": 0,
  "metadata": {
    "colab": {
      "provenance": [],
      "authorship_tag": "ABX9TyMOd29DrV1LGSreCi7advz5",
      "include_colab_link": true
    },
    "kernelspec": {
      "name": "python3",
      "display_name": "Python 3"
    },
    "language_info": {
      "name": "python"
    }
  },
  "cells": [
    {
      "cell_type": "markdown",
      "metadata": {
        "id": "view-in-github",
        "colab_type": "text"
      },
      "source": [
        "<a href=\"https://colab.research.google.com/github/Uzmamushtaque/CSCI_4170_summer/blob/main/Lecture_05.ipynb\" target=\"_parent\"><img src=\"https://colab.research.google.com/assets/colab-badge.svg\" alt=\"Open In Colab\"/></a>"
      ]
    },
    {
      "cell_type": "markdown",
      "metadata": {
        "id": "ZgbKg0qsnql1"
      },
      "source": [
        "# Lecture 5\n",
        "\n",
        "## Today's Lecture\n",
        "\n",
        "1. The Perceptron\n",
        "2. Neural Network\n",
        "3. Forward propogation and Backward propogation Algorithms"
      ]
    },
    {
      "cell_type": "markdown",
      "metadata": {
        "id": "4oFxui3HDmxg"
      },
      "source": [
        "# This week\n",
        "\n",
        "The focus this week is to understand how deep neural networks work. Because this week is math intensive, I will be using the following slides to write on all the material:\n",
        "\n",
        "[Not Inked](https://docs.google.com/presentation/d/1IhhA7GOlQl3EhuPECyHFPvVvTHlV86Sd/edit?usp=drive_link&ouid=106143452455014751731&rtpof=true&sd=true)\n",
        "\n",
        "Inked slides will be posted on Submitty.\n"
      ]
    },
    {
      "cell_type": "markdown",
      "metadata": {
        "id": "Wws_rCmv6W0e"
      },
      "source": [
        "# Papers to read\n",
        "\n",
        "[Paper 1](https://submitty.cs.rpi.edu/courses/s25/csci4170/course_material/Research%20Paper/Notes_Backpropagation.pdf)\n",
        "\n",
        "This paper can be found under Course Materials on Submitty."
      ]
    }
  ]
}